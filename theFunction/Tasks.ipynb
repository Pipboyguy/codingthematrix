{
 "cells": [
  {
   "cell_type": "code",
   "execution_count": 127,
   "id": "86f8b8ce-af0a-412e-907e-191773a28f48",
   "metadata": {},
   "outputs": [],
   "source": [
    "# Task 0.5.23\n",
    "\n",
    "v = {k: k ** 2 for k in range(100)}"
   ]
  },
  {
   "cell_type": "code",
   "execution_count": 128,
   "id": "bd55ea8b-9fcd-4e59-900e-c6d5c425dce6",
   "metadata": {},
   "outputs": [
    {
     "data": {
      "text/plain": [
       "{'red': 'red', 'white': 'white', 'blue': 'blue'}"
      ]
     },
     "execution_count": 128,
     "metadata": {},
     "output_type": "execute_result"
    }
   ],
   "source": [
    "# Task 0.5.24\n",
    "\n",
    "D = {\"red\", \"white\", \"blue\"}\n",
    "\n",
    "{k: k for k in D}"
   ]
  },
  {
   "cell_type": "code",
   "execution_count": 129,
   "id": "634c41d1-a815-43bf-95cd-0fbd17e1f555",
   "metadata": {},
   "outputs": [
    {
     "data": {
      "text/plain": [
       "{0, 1, 2, 3, 4, 5, 6, 7, 8, 9}"
      ]
     },
     "execution_count": 129,
     "metadata": {},
     "output_type": "execute_result"
    }
   ],
   "source": [
    "# Task 0.5.25\n",
    "\n",
    "base=10\n",
    "digits=set(range(base))\n",
    "\n",
    "{for i in range()}"
   ]
  },
  {
   "cell_type": "code",
   "execution_count": null,
   "id": "5cdc3c1a-98a2-48ea-8eaf-c66661348b6a",
   "metadata": {},
   "outputs": [],
   "source": []
  }
 ],
 "metadata": {
  "kernelspec": {
   "display_name": "Python 3 (ipykernel)",
   "language": "python",
   "name": "python3"
  },
  "language_info": {
   "codemirror_mode": {
    "name": "ipython",
    "version": 3
   },
   "file_extension": ".py",
   "mimetype": "text/x-python",
   "name": "python",
   "nbconvert_exporter": "python",
   "pygments_lexer": "ipython3",
   "version": "3.10.1"
  }
 },
 "nbformat": 4,
 "nbformat_minor": 5
}
