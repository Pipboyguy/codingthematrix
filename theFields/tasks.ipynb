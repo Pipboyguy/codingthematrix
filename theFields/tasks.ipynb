{
 "cells": [
  {
   "cell_type": "code",
   "execution_count": 4,
   "id": "e6f371b6-863e-45a2-85bc-57add2151d9b",
   "metadata": {},
   "outputs": [],
   "source": [
    "# task 1.4.1\n",
    "\n",
    "from plotting import plot\n",
    "\n",
    "S = {\n",
    "    2 + 2j,\n",
    "    3 + 2j,\n",
    "    1.75 + 1j,\n",
    "    2 + 1j,\n",
    "    2.25 + 1j,\n",
    "    2.5 + 1j,\n",
    "    2.75 + 1j,\n",
    "    3 + 1j,\n",
    "    3.25 + 1j,\n",
    "}\n",
    "\n",
    "plot(S,scale=5,dot_size=2.5)"
   ]
  },
  {
   "cell_type": "code",
   "execution_count": null,
   "id": "e6f47669-7737-4912-a4c7-07b8bc545ead",
   "metadata": {},
   "outputs": [],
   "source": []
  },
  {
   "cell_type": "code",
   "execution_count": null,
   "id": "9f7df5d2-0048-428d-94d0-7936e6a6fa53",
   "metadata": {},
   "outputs": [],
   "source": []
  }
 ],
 "metadata": {
  "kernelspec": {
   "display_name": "Python 3 (ipykernel)",
   "language": "python",
   "name": "python3"
  },
  "language_info": {
   "codemirror_mode": {
    "name": "ipython",
    "version": 3
   },
   "file_extension": ".py",
   "mimetype": "text/x-python",
   "name": "python",
   "nbconvert_exporter": "python",
   "pygments_lexer": "ipython3",
   "version": "3.9.9"
  }
 },
 "nbformat": 4,
 "nbformat_minor": 5
}
